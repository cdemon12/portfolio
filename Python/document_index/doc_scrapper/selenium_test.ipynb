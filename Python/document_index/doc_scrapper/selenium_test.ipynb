{
 "cells": [
  {
   "cell_type": "code",
   "execution_count": 1,
   "id": "59ecfd7e",
   "metadata": {},
   "outputs": [],
   "source": [
    "import time\n",
    "from selenium import webdriver\n",
    "from webdriver_manager.chrome import ChromeDriverManager"
   ]
  },
  {
   "cell_type": "markdown",
   "id": "5b703b1f",
   "metadata": {},
   "source": [
    "## This is a test to find how to navigate with selenium"
   ]
  },
  {
   "cell_type": "code",
   "execution_count": 2,
   "id": "a1b1ebb4",
   "metadata": {},
   "outputs": [
    {
     "name": "stdout",
     "output_type": "stream",
     "text": [
      "\n"
     ]
    },
    {
     "name": "stderr",
     "output_type": "stream",
     "text": [
      "[WDM] - ====== WebDriver manager ======\n",
      "[WDM] - Current google-chrome version is 102.0.5005\n",
      "[WDM] - Get LATEST chromedriver version for 102.0.5005 google-chrome\n",
      "[WDM] - Driver [C:\\Users\\Cole Schnell\\.wdm\\drivers\\chromedriver\\win32\\102.0.5005.61\\chromedriver.exe] found in cache\n",
      "C:\\Users\\Cole Schnell\\AppData\\Local\\Temp\\ipykernel_15100\\1503906442.py:1: DeprecationWarning: executable_path has been deprecated, please pass in a Service object\n",
      "  driver = webdriver.Chrome(ChromeDriverManager().install())\n"
     ]
    }
   ],
   "source": [
    "driver = webdriver.Chrome(ChromeDriverManager().install())"
   ]
  },
  {
   "cell_type": "code",
   "execution_count": 3,
   "id": "4c18c0d1",
   "metadata": {},
   "outputs": [],
   "source": [
    "from selenium.webdriver.support.ui import WebDriverWait\n",
    "\n",
    "page_url =\"https://assistive.eboardsolutions.com/SB_Meetings/ViewMeeting.aspx?S=42&MID=10836&T=1\"\n",
    "driver.get(page_url)\n",
    "\n",
    "wait = WebDriverWait(driver, 10)\n"
   ]
  },
  {
   "cell_type": "markdown",
   "id": "15b6cd70",
   "metadata": {},
   "source": [
    "Save window id"
   ]
  },
  {
   "cell_type": "code",
   "execution_count": 4,
   "id": "534a5ad0",
   "metadata": {},
   "outputs": [],
   "source": [
    "# Store the ID of the original window\n",
    "original_window = driver.current_window_handle\n",
    "\n",
    "assert len(driver.window_handles) == 1"
   ]
  },
  {
   "cell_type": "markdown",
   "id": "0bc6ab84",
   "metadata": {},
   "source": [
    "Click on print button to get dropdown"
   ]
  },
  {
   "cell_type": "code",
   "execution_count": 5,
   "id": "f8a66356",
   "metadata": {},
   "outputs": [],
   "source": [
    "from selenium.webdriver.common.by import By\n",
    "\n",
    "button = driver.find_element(By.CSS_SELECTOR, '[title=\"Print Options\"]').click()"
   ]
  },
  {
   "cell_type": "markdown",
   "id": "04c24bcb",
   "metadata": {},
   "source": [
    "Click on \"Print Minutes\""
   ]
  },
  {
   "cell_type": "code",
   "execution_count": 6,
   "id": "cb446dfe",
   "metadata": {},
   "outputs": [],
   "source": [
    "print_button = driver.find_element(By.XPATH, '/html/body/form/div[12]/div[3]/div[2]/div[5]/div[2]/app-viewmeeting/app-app/app-viewmeeting/div[1]/app-header/div[2]/div/div[2]/div[2]/ul/li[2]/a').click()"
   ]
  },
  {
   "cell_type": "markdown",
   "id": "e3669bc0",
   "metadata": {},
   "source": [
    "Switch windows to pop-up"
   ]
  },
  {
   "cell_type": "code",
   "execution_count": 7,
   "id": "1192d798",
   "metadata": {},
   "outputs": [],
   "source": [
    "from selenium.webdriver.support import expected_conditions as EC\n",
    "\n",
    "# Wait for the new window or tab\n",
    "wait.until(EC.number_of_windows_to_be(2))\n",
    "# Loop through until we find a new window handle\n",
    "for window_handle in driver.window_handles:\n",
    "    if window_handle != original_window:\n",
    "        driver.switch_to.window(window_handle)\n",
    "        break"
   ]
  },
  {
   "cell_type": "code",
   "execution_count": 8,
   "id": "cf5c3c4f",
   "metadata": {},
   "outputs": [
    {
     "name": "stdout",
     "output_type": "stream",
     "text": [
      "https://app1.eboardsolutions.com//api/PrintMinutes/ViewPrintMinutes?fid=Minutes_42_10836_07Jun2022020923.pdf&fname=Policy%20Committee%20Meeting%20-%2004-18-2022%20-%20Meeting%20Minutes\n"
     ]
    }
   ],
   "source": [
    "print(driver.current_url)"
   ]
  },
  {
   "cell_type": "code",
   "execution_count": 9,
   "id": "65619547",
   "metadata": {},
   "outputs": [],
   "source": [
    "driver.quit()"
   ]
  },
  {
   "cell_type": "code",
   "execution_count": null,
   "id": "8fb33c64",
   "metadata": {},
   "outputs": [],
   "source": []
  }
 ],
 "metadata": {
  "kernelspec": {
   "display_name": "Python 3.9.13 64-bit (microsoft store)",
   "language": "python",
   "name": "python3"
  },
  "language_info": {
   "codemirror_mode": {
    "name": "ipython",
    "version": 3
   },
   "file_extension": ".py",
   "mimetype": "text/x-python",
   "name": "python",
   "nbconvert_exporter": "python",
   "pygments_lexer": "ipython3",
   "version": "3.9.13"
  },
  "vscode": {
   "interpreter": {
    "hash": "986112da7768e6c8ad642e3640bb88293a4ad7412e30656de561e3c8f0b2a64a"
   }
  }
 },
 "nbformat": 4,
 "nbformat_minor": 5
}
